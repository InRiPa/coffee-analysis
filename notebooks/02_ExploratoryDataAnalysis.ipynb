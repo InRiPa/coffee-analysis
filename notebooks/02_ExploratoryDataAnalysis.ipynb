{
 "cells": [
  {
   "cell_type": "code",
   "execution_count": 19,
   "metadata": {
    "collapsed": true
   },
   "outputs": [],
   "source": [
    "import os \n",
    "import time\n",
    "import random\n",
    "\n",
    "import pandas as pd\n",
    "import numpy as np\n",
    "import matplotlib.pyplot as plt\n",
    "\n",
    "from scipy.stats import norm  \n",
    "\n",
    "%matplotlib inline\n",
    "\n"
   ]
  },
  {
   "cell_type": "code",
   "execution_count": 2,
   "metadata": {
    "collapsed": false
   },
   "outputs": [
    {
     "name": "stdout",
     "output_type": "stream",
     "text": [
      "Default plot size: [6.0, 4.0]\n",
      "New plot size: [15, 10]\n"
     ]
    }
   ],
   "source": [
    "# Adjust Plot size\n",
    "fig_size = plt.rcParams[\"figure.figsize\"] # get current plot size\n",
    "print(\"Default plot size:\", fig_size) # # print current plot size\n",
    "fig_size[0] = 15 # set x value of plot size \n",
    "fig_size[1] = 10  # set y value of plot size \n",
    "plt.rcParams[\"figure.figsize\"] = fig_size # set new plot size\n",
    "print(\"New plot size:\", fig_size) # # print current plot size"
   ]
  },
  {
   "cell_type": "code",
   "execution_count": 15,
   "metadata": {
    "collapsed": false
   },
   "outputs": [],
   "source": [
    "# load cleaned data set\n",
    "data = pd.read_pickle(path=\"../data/interim/01_coffee.pkl\")"
   ]
  },
  {
   "cell_type": "code",
   "execution_count": 16,
   "metadata": {
    "collapsed": false
   },
   "outputs": [
    {
     "name": "stdout",
     "output_type": "stream",
     "text": [
      "Features(2): ['Date', 'Type']\n",
      "Rows: 231 entries\n",
      "Time span of observations: from 2016-03-21 09:23:00 to 2016-11-11 14:44:42\n",
      "Types of coffee: 6\n"
     ]
    }
   ],
   "source": [
    "# Verify meta data to ensure correct data set\n",
    "\n",
    "### from 01_GetTheData ###\n",
    "###    Features(2): ['Date', 'Type']\n",
    "###    Rows: 231 entries\n",
    "###    Time span of observations: from 2016-03-21 09:23:00 to 2016-11-11 14:44:42\n",
    "###    Types of coffee: 6\n",
    "\n",
    "\n",
    "features = data.columns.tolist()\n",
    "instances = data.index.size \n",
    "timeSpan = [data.Date.min(), data.Date.max()]\n",
    "types_amount = len(data.Type.unique())\n",
    "\n",
    "print(\"Features({0}): {1}\".format(len(features),features))\n",
    "print(\"Rows: {0} entries\".format(instances))\n",
    "print(\"Time span of observations: from {0} to {1}\".format(timeSpan[0], timeSpan[1]))\n",
    "print(\"Types of coffee: {0}\".format(types_amount))"
   ]
  },
  {
   "cell_type": "code",
   "execution_count": null,
   "metadata": {
    "collapsed": false
   },
   "outputs": [],
   "source": [
    "\n"
   ]
  },
  {
   "cell_type": "code",
   "execution_count": null,
   "metadata": {
    "collapsed": true
   },
   "outputs": [],
   "source": []
  }
 ],
 "metadata": {
  "kernelspec": {
   "display_name": "Python 3",
   "language": "python",
   "name": "python3"
  },
  "language_info": {
   "codemirror_mode": {
    "name": "ipython",
    "version": 3
   },
   "file_extension": ".py",
   "mimetype": "text/x-python",
   "name": "python",
   "nbconvert_exporter": "python",
   "pygments_lexer": "ipython3",
   "version": "3.5.2"
  }
 },
 "nbformat": 4,
 "nbformat_minor": 0
}
