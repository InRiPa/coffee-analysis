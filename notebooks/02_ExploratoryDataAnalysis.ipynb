{
 "cells": [
  {
   "cell_type": "code",
   "execution_count": 9,
   "metadata": {
    "collapsed": true
   },
   "outputs": [],
   "source": [
    "import os \n",
    "import time\n",
    "import random\n",
    "\n",
    "import pandas as pd\n",
    "import numpy as np\n",
    "import matplotlib.pyplot as plt\n",
    "\n",
    "from scipy.stats import norm  \n",
    "\n",
    "%matplotlib inline\n",
    "\n"
   ]
  },
  {
   "cell_type": "code",
   "execution_count": 10,
   "metadata": {
    "collapsed": false
   },
   "outputs": [
    {
     "name": "stdout",
     "output_type": "stream",
     "text": [
      "Default plot size: [6.0, 4.0]\n",
      "New plot size: [15, 10]\n"
     ]
    }
   ],
   "source": [
    "# Adjust Plot size\n",
    "fig_size = plt.rcParams[\"figure.figsize\"] # get current plot size\n",
    "print(\"Default plot size:\", fig_size) # # print current plot size\n",
    "fig_size[0] = 15 # set x value of plot size \n",
    "fig_size[1] = 10  # set y value of plot size \n",
    "plt.rcParams[\"figure.figsize\"] = fig_size # set new plot size\n",
    "print(\"New plot size:\", fig_size) # # print current plot size"
   ]
  },
  {
   "cell_type": "code",
   "execution_count": 11,
   "metadata": {
    "collapsed": false
   },
   "outputs": [
    {
     "data": {
      "text/plain": [
       "{'Jacobs Classic': 0,\n",
       " 'Krüger Chai latte Classic India': 4,\n",
       " 'Krüger Chai latte Honig': 3,\n",
       " 'Krüger Chai latte Ingwer-Zitronengras': 2,\n",
       " 'Krüger Chai latte Sweet India': 5,\n",
       " 'San Fabio Ungesüsst': 1}"
      ]
     },
     "execution_count": 11,
     "metadata": {},
     "output_type": "execute_result"
    }
   ],
   "source": [
    "# load cleaned data set\n",
    "\n",
    "# load dataframe\n",
    "data = pd.read_pickle(path=\"../data/interim/01_coffee.pkl\")\n",
    "\n",
    "\n",
    "# Load coffee types dictionary \n",
    "type_dict = np.load('../data/interim/cfe_Type_dict.npy').item()\n",
    "type_dict"
   ]
  },
  {
   "cell_type": "code",
   "execution_count": 12,
   "metadata": {
    "collapsed": false
   },
   "outputs": [
    {
     "name": "stdout",
     "output_type": "stream",
     "text": [
      "Features(3): ['Date', 'Type', 'Weekday']\n",
      "Rows: 231 entries\n",
      "Time span of observations: from 2016-03-21 09:23:00 to 2016-11-11 14:44:42\n",
      "Types of coffee: 6\n"
     ]
    }
   ],
   "source": [
    "# Verify meta data to ensure correct data set\n",
    "\n",
    "### from 01_GetTheData ###\n",
    "###    Features(3): ['Date', 'Type', 'Weekday']\n",
    "###    Rows: 231 entries\n",
    "###    Time span of observations: from 2016-03-21 09:23:00 to 2016-11-11 14:44:42\n",
    "###    Types of coffee: 6\n",
    "\n",
    "\n",
    "features = data.columns.tolist()\n",
    "instances = data.index.size \n",
    "timeSpan = [data.Date.min(), data.Date.max()]\n",
    "types_amount = len(data.Type.unique())\n",
    "\n",
    "print(\"Features({0}): {1}\".format(len(features),features))\n",
    "print(\"Rows: {0} entries\".format(instances))\n",
    "print(\"Time span of observations: from {0} to {1}\".format(timeSpan[0], timeSpan[1]))\n",
    "print(\"Types of coffee: {0}\".format(types_amount))"
   ]
  },
  {
   "cell_type": "code",
   "execution_count": 32,
   "metadata": {
    "collapsed": false
   },
   "outputs": [
    {
     "name": "stdout",
     "output_type": "stream",
     "text": [
      "Values:\n",
      "2    58\n",
      "3    50\n",
      "4    48\n",
      "0    43\n",
      "1    32\n",
      "Name: Weekday, dtype: int64\n"
     ]
    },
    {
     "data": {
      "text/plain": [
       "<matplotlib.text.Text at 0x7f72a0eccc18>"
      ]
     },
     "execution_count": 32,
     "metadata": {},
     "output_type": "execute_result"
    },
    {
     "data": {
      "image/png": "[encoded data removed]",
      "text/plain": [
       "<matplotlib.figure.Figure at 0x7f72a0e53be0>"
      ]
     },
     "metadata": {},
     "output_type": "display_data"
    }
   ],
   "source": [
    "# draw historgramm amount by weekday\n",
    "print(\"Values:\\n{0}\".format(data.Weekday.value_counts()))\n",
    "plt.hist(x=data.Weekday, bins=[0,1,2,3,4,5,6,7])\n",
    "plt.title('Overall coffee consumption by Weekday')\n",
    "plt.ylabel('Amount consumed')\n",
    "plt.xlabel('Weekday(0=Monday,..,6=Sunday)')\n"
   ]
  },
  {
   "cell_type": "code",
   "execution_count": 81,
   "metadata": {
    "collapsed": false
   },
   "outputs": [
    {
     "name": "stdout",
     "output_type": "stream",
     "text": [
      "Average consumption per day:  2.15887850467\n",
      "Standard deviation in consumption:  0.802702190015\n"
     ]
    },
    {
     "data": {
      "image/png": "[encoded data removed]",
      "text/plain": [
       "<matplotlib.figure.Figure at 0x7f72a0c24470>"
      ]
     },
     "metadata": {},
     "output_type": "display_data"
    }
   ],
   "source": [
    "# group and display per day consumption\n",
    "perDayConsumption = data.Date.dt.date.value_counts()\n",
    "perDayConsumption = perDayConsumption.sort_index()\n",
    "perDayConsumption.hist(bins=[-3,-2,-1,0,1,2,3,4,5,6,7,8,9])\n",
    "\n",
    "print(\"Average consumption per day: \",perDayConsumption.mean())\n",
    "print(\"Standard deviation in consumption: \",perDayConsumption.std())\n"
   ]
  },
  {
   "cell_type": "code",
   "execution_count": null,
   "metadata": {
    "collapsed": false
   },
   "outputs": [],
   "source": []
  }
 ],
 "metadata": {
  "kernelspec": {
   "display_name": "Python 3",
   "language": "python",
   "name": "python3"
  },
  "language_info": {
   "codemirror_mode": {
    "name": "ipython",
    "version": 3
   },
   "file_extension": ".py",
   "mimetype": "text/x-python",
   "name": "python",
   "nbconvert_exporter": "python",
   "pygments_lexer": "ipython3",
   "version": "3.5.2"
  }
 },
 "nbformat": 4,
 "nbformat_minor": 0
}
