{
 "cells": [
  {
   "cell_type": "code",
   "execution_count": 1,
   "metadata": {},
   "outputs": [],
   "source": [
    "import pandas as pd\n",
    "import numpy as np\n",
    "\n",
    "%matplotlib inline"
   ]
  },
  {
   "cell_type": "code",
   "execution_count": 2,
   "metadata": {},
   "outputs": [],
   "source": [
    "# Read data into a Dataframe\n",
    "data = pd.read_csv(\n",
    "    filepath_or_buffer='../data/raw/Data.csv',\n",
    "    sep=',',\n",
    "    parse_dates = ['Date'])\n",
    "\n",
    "# The > parse_dates = ['Date'] < argument seems to not be working. Therefore, we need to transform the date column again\n",
    "# http://strftime.org/  <-- placeholder reference guide\n",
    "data.Date = pd.to_datetime(data.Date, format=\"%m/%d/%Y %H:%M:%S\") "
   ]
  },
  {
   "cell_type": "code",
   "execution_count": 3,
   "metadata": {},
   "outputs": [],
   "source": [
    "# Gather some  meta information about the data set\n",
    "features = []\n",
    "instances =  0\n",
    "timeSpan = ['','']\n",
    "types_amount= 0\n"
   ]
  },
  {
   "cell_type": "code",
   "execution_count": 4,
   "metadata": {},
   "outputs": [],
   "source": [
    "# Get amount of instances\n",
    "instances = data.index.size # get actual amount of entries\n",
    "\n",
    "# Get time span \n",
    "timeSpan = [data.Date.min(), data.Date.max()]"
   ]
  },
  {
   "cell_type": "code",
   "execution_count": 5,
   "metadata": {},
   "outputs": [
    {
     "name": "stdout",
     "output_type": "stream",
     "text": [
      "['Jacobs Classic' 'San Fabio Ungesüsst'\n",
      " 'Krüger Chai latte Ingwer-Zitronengras' 'Krüger Chai latte Honig'\n",
      " 'Krüger Chai latte Classic India' 'Krüger Chai latte Classic India '\n",
      " 'Krüger Chai latte Sweet India' 'Bellarom Latte Macchiato'\n",
      " 'Tee Heidelbeere Vanille' 'Tee Minze-Zitrone' 'Tee Apfel' 'Tee Grüner Tee'\n",
      " 'Maxima Cappucino Vanille' 'Tee Ostfriesen Schwarzer Tee'\n",
      " 'Automat Cappucino' 'Tee Green Tea' 'Tee Blutorange' 'Tee Pfefferminze'\n",
      " 'Tee Ingwer Zitrone' 'Krüger Eiskaffee' 'Bellarom Cappucino Caramello'\n",
      " 'Automat Kaffee' 'Melitta Classico' 'Rondo Cappucino' 'Di Carlo Classico'\n",
      " 'Krüger White-Vanille' 'Krüger Karamell-Krokant' 'Krüger Classico'\n",
      " 'Jacobs Gold' 'Magico Cappucino Weniger Suess' 'Cafét Arrabiata'\n",
      " 'Jacobs Krönung' 'Melitta Kaffee' 'Rondo Kaffee' 'Immergut Eiscafe'\n",
      " 'Eduscho Gala Nr.1 Kaffee' 'Krüger Chai latte Kokos-Mandel'\n",
      " 'Elbflorenz Gräfin Kosel Kaffee' 'Tee Apfel Minze']\n"
     ]
    }
   ],
   "source": [
    "# Get types of coffee\n",
    "print(data.Type.unique()) # 2 types are identical except a trailing space.\n",
    "data.Type = data.Type.map(lambda x: x.strip())\n",
    "types_amount = len(data.Type.unique())"
   ]
  },
  {
   "cell_type": "code",
   "execution_count": 6,
   "metadata": {},
   "outputs": [],
   "source": [
    "# transform types into a dictionary\n",
    "# create a dictionary for the mapping\n",
    "type_dict = pd.Series(np.arange(0,types_amount),index=data.Type.unique()).to_dict()\n",
    "\n",
    "# replace Type strings according to dictionary\n",
    "data = data.replace({\"Type\": type_dict})"
   ]
  },
  {
   "cell_type": "code",
   "execution_count": 7,
   "metadata": {},
   "outputs": [],
   "source": [
    "# add weekdays\n",
    "data['Weekday'] = data.Date.dt.dayofweek"
   ]
  },
  {
   "cell_type": "code",
   "execution_count": 8,
   "metadata": {},
   "outputs": [],
   "source": [
    "# Get amount of features\n",
    "features = data.columns.tolist()"
   ]
  },
  {
   "cell_type": "code",
   "execution_count": 9,
   "metadata": {},
   "outputs": [
    {
     "name": "stdout",
     "output_type": "stream",
     "text": [
      "Features(3): ['Date', 'Type', 'Weekday']\n",
      "Rows: 1098 entries\n",
      "Time span of observations: from 2016-03-21 09:23:00 to 2019-01-11 14:06:29\n",
      "Types of coffee: 38\n"
     ]
    }
   ],
   "source": [
    "# Meta data summary\n",
    "\n",
    "print(\"Features({0}): {1}\".format(len(features),features))\n",
    "print(\"Rows: {0} entries\".format(instances))\n",
    "print(\"Time span of observations: from {0} to {1}\".format(timeSpan[0], timeSpan[1]))\n",
    "print(\"Types of coffee: {0}\".format(types_amount))\n"
   ]
  },
  {
   "cell_type": "code",
   "execution_count": 10,
   "metadata": {},
   "outputs": [],
   "source": [
    "# Save the adjusted data frame for later and further analysis\n",
    "# save dataframe\n",
    "data.to_pickle(path=\"../data/interim/01_coffee.pkl\")\n",
    "# save dictionary\n",
    "\n",
    "\n",
    "# Save\n",
    "np.save('../data/interim/cfe_Type_dict.npy', type_dict) \n"
   ]
  }
 ],
 "metadata": {
  "kernelspec": {
   "display_name": "Python 3",
   "language": "python",
   "name": "python3"
  },
  "language_info": {
   "codemirror_mode": {
    "name": "ipython",
    "version": 3
   },
   "file_extension": ".py",
   "mimetype": "text/x-python",
   "name": "python",
   "nbconvert_exporter": "python",
   "pygments_lexer": "ipython3",
   "version": "3.6.7"
  }
 },
 "nbformat": 4,
 "nbformat_minor": 1
}
