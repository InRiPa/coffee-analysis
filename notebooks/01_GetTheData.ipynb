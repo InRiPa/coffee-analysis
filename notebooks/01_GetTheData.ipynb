{
 "cells": [
  {
   "cell_type": "code",
   "execution_count": 1,
   "metadata": {
    "collapsed": true
   },
   "outputs": [],
   "source": [
    "import pandas as pd\n",
    "import numpy as np\n",
    "\n",
    "%matplotlib inline"
   ]
  },
  {
   "cell_type": "code",
   "execution_count": 2,
   "metadata": {
    "collapsed": false
   },
   "outputs": [
    {
     "data": {
      "text/html": [
       "<div>\n",
       "<table border=\"1\" class=\"dataframe\">\n",
       "  <thead>\n",
       "    <tr style=\"text-align: right;\">\n",
       "      <th></th>\n",
       "      <th>Date</th>\n",
       "      <th>Type</th>\n",
       "    </tr>\n",
       "  </thead>\n",
       "  <tbody>\n",
       "    <tr>\n",
       "      <th>0</th>\n",
       "      <td>2016-03-21 09:23:00</td>\n",
       "      <td>Jacobs Classic</td>\n",
       "    </tr>\n",
       "    <tr>\n",
       "      <th>1</th>\n",
       "      <td>2016-03-21 12:32:00</td>\n",
       "      <td>Jacobs Classic</td>\n",
       "    </tr>\n",
       "    <tr>\n",
       "      <th>2</th>\n",
       "      <td>2016-03-23 09:36:00</td>\n",
       "      <td>Jacobs Classic</td>\n",
       "    </tr>\n",
       "    <tr>\n",
       "      <th>3</th>\n",
       "      <td>2016-03-30 08:50:00</td>\n",
       "      <td>Jacobs Classic</td>\n",
       "    </tr>\n",
       "    <tr>\n",
       "      <th>4</th>\n",
       "      <td>2016-03-30 10:30:00</td>\n",
       "      <td>Jacobs Classic</td>\n",
       "    </tr>\n",
       "  </tbody>\n",
       "</table>\n",
       "</div>"
      ],
      "text/plain": [
       "                 Date            Type\n",
       "0 2016-03-21 09:23:00  Jacobs Classic\n",
       "1 2016-03-21 12:32:00  Jacobs Classic\n",
       "2 2016-03-23 09:36:00  Jacobs Classic\n",
       "3 2016-03-30 08:50:00  Jacobs Classic\n",
       "4 2016-03-30 10:30:00  Jacobs Classic"
      ]
     },
     "execution_count": 2,
     "metadata": {},
     "output_type": "execute_result"
    }
   ],
   "source": [
    "# Read data into a Dataframe\n",
    "data = pd.read_csv(\n",
    "    filepath_or_buffer='../data/raw/Data.csv',\n",
    "    sep=';',\n",
    "    parse_dates = ['Date'])\n",
    "data.head()"
   ]
  },
  {
   "cell_type": "code",
   "execution_count": 3,
   "metadata": {
    "collapsed": false
   },
   "outputs": [],
   "source": [
    "# Gather some  meta information about the data set\n",
    "features = []\n",
    "instances =  0\n",
    "timeSpan = ['','']\n",
    "types_amount= 0\n"
   ]
  },
  {
   "cell_type": "code",
   "execution_count": 4,
   "metadata": {
    "collapsed": false
   },
   "outputs": [],
   "source": [
    "# Get amount of instances\n",
    "instances = data.index.size # get actual amount of entries\n",
    "\n",
    "# Get time span \n",
    "timeSpan = [data.Date.min(), data.Date.max()]"
   ]
  },
  {
   "cell_type": "code",
   "execution_count": 5,
   "metadata": {
    "collapsed": false
   },
   "outputs": [
    {
     "name": "stdout",
     "output_type": "stream",
     "text": [
      "['Jacobs Classic' 'San Fabio Ungesüsst'\n",
      " 'Krüger Chai latte Ingwer-Zitronengras' 'Krüger Chai latte Honig'\n",
      " 'Krüger Chai latte Classic India' 'Krüger Chai latte Classic India '\n",
      " 'Krüger Chai latte Sweet India']\n"
     ]
    }
   ],
   "source": [
    "# Get types of coffee\n",
    "print(data.Type.unique()) # 2 types are identical except a trailing space.\n",
    "data.Type = data.Type.map(lambda x: x.strip())\n",
    "types_amount = len(data.Type.unique())"
   ]
  },
  {
   "cell_type": "code",
   "execution_count": 6,
   "metadata": {
    "collapsed": false
   },
   "outputs": [],
   "source": [
    "# transform types into a dictionary\n",
    "# create a dictionary for the mapping\n",
    "type_dict = pd.Series(np.arange(0,types_amount),index=data.Type.unique()).to_dict()\n",
    "\n",
    "# replace Type strings according to dictionary\n",
    "data = data.replace({\"Type\": type_dict})"
   ]
  },
  {
   "cell_type": "code",
   "execution_count": 7,
   "metadata": {
    "collapsed": false
   },
   "outputs": [],
   "source": [
    "# add weekdays\n",
    "data['Weekday'] = data.Date.dt.dayofweek"
   ]
  },
  {
   "cell_type": "code",
   "execution_count": 8,
   "metadata": {
    "collapsed": true
   },
   "outputs": [],
   "source": [
    "# Get amount of features\n",
    "features = data.columns.tolist()"
   ]
  },
  {
   "cell_type": "code",
   "execution_count": 9,
   "metadata": {
    "collapsed": false
   },
   "outputs": [
    {
     "name": "stdout",
     "output_type": "stream",
     "text": [
      "Features(3): ['Date', 'Type', 'Weekday']\n",
      "Rows: 231 entries\n",
      "Time span of observations: from 2016-03-21 09:23:00 to 2016-11-11 14:44:42\n",
      "Types of coffee: 6\n"
     ]
    }
   ],
   "source": [
    "# Meta data summary\n",
    "\n",
    "print(\"Features({0}): {1}\".format(len(features),features))\n",
    "print(\"Rows: {0} entries\".format(instances))\n",
    "print(\"Time span of observations: from {0} to {1}\".format(timeSpan[0], timeSpan[1]))\n",
    "print(\"Types of coffee: {0}\".format(types_amount))\n"
   ]
  },
  {
   "cell_type": "code",
   "execution_count": 10,
   "metadata": {
    "collapsed": false
   },
   "outputs": [],
   "source": [
    "# Save the adjusted data frame for later and further analysis\n",
    "# save dataframe\n",
    "data.to_pickle(path=\"../data/interim/01_coffee.pkl\")\n",
    "# save dictionary\n",
    "\n",
    "\n",
    "# Save\n",
    "np.save('../data/interim/cfe_Type_dict.npy', type_dict) \n"
   ]
  }
 ],
 "metadata": {
  "kernelspec": {
   "display_name": "Python 3",
   "language": "python",
   "name": "python3"
  },
  "language_info": {
   "codemirror_mode": {
    "name": "ipython",
    "version": 3
   },
   "file_extension": ".py",
   "mimetype": "text/x-python",
   "name": "python",
   "nbconvert_exporter": "python",
   "pygments_lexer": "ipython3",
   "version": "3.5.2"
  }
 },
 "nbformat": 4,
 "nbformat_minor": 0
}
